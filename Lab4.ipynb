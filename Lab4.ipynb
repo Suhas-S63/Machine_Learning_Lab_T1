{
  "nbformat": 4,
  "nbformat_minor": 0,
  "metadata": {
    "colab": {
      "provenance": [],
      "mount_file_id": "1j-6UNs4iPS9SFau1kM5bIM_kWM6BjKuT",
      "authorship_tag": "ABX9TyO5aBT2fBRm3AhwMZBfnJpd",
      "include_colab_link": true
    },
    "kernelspec": {
      "name": "python3",
      "display_name": "Python 3"
    },
    "language_info": {
      "name": "python"
    }
  },
  "cells": [
    {
      "cell_type": "markdown",
      "metadata": {
        "id": "view-in-github",
        "colab_type": "text"
      },
      "source": [
        "<a href=\"https://colab.research.google.com/github/Suhas-S63/Machine_Learning_Lab_T1/blob/main/Lab4.ipynb\" target=\"_parent\"><img src=\"https://colab.research.google.com/assets/colab-badge.svg\" alt=\"Open In Colab\"/></a>"
      ]
    },
    {
      "cell_type": "code",
      "source": [
        "import pandas as pd\n",
        "import numpy as np\n",
        "import matplotlib.pyplot as plt\n",
        "import time\n",
        "import threading\n",
        "import warnings\n",
        "warnings.filterwarnings(\"ignore\")\n",
        "from mlxtend.frequent_patterns import apriori\n",
        "from mlxtend.frequent_patterns import fpgrowth"
      ],
      "metadata": {
        "id": "P2INfUfzRvWN"
      },
      "execution_count": null,
      "outputs": []
    },
    {
      "cell_type": "code",
      "source": [
        "data=pd.read_csv('/content/drive/MyDrive/Groceries_dataset.csv', skiprows=lambda x: x % 10 != 0)\n",
        "data.shape"
      ],
      "metadata": {
        "colab": {
          "base_uri": "https://localhost:8080/"
        },
        "id": "ZqVDMZNSRygN",
        "outputId": "b71b0e3d-6719-4f10-df82-dc897d342671"
      },
      "execution_count": null,
      "outputs": [
        {
          "output_type": "stream",
          "name": "stderr",
          "text": [
            "/usr/local/lib/python3.10/dist-packages/ipykernel/ipkernel.py:283: DeprecationWarning: `should_run_async` will not call `transform_cell` automatically in the future. Please pass the result to `transformed_cell` argument and any exception that happen during thetransform in `preprocessing_exc_tuple` in IPython 7.17 and above.\n",
            "  and should_run_async(code)\n"
          ]
        },
        {
          "output_type": "execute_result",
          "data": {
            "text/plain": [
              "(3876, 3)"
            ]
          },
          "metadata": {},
          "execution_count": 2
        }
      ]
    },
    {
      "cell_type": "code",
      "source": [
        "import pandas as pd\n",
        "from mlxtend.frequent_patterns import apriori, fpgrowth\n",
        "\n",
        "class FrequentItemsets:\n",
        "    def __init__(self, data):\n",
        "        self.data = data\n",
        "        self.transactions = []\n",
        "        for index, row in self.data.iterrows():\n",
        "            self.transactions.append(row.dropna().tolist())\n",
        "        self.encoded = pd.get_dummies(pd.DataFrame(self.transactions).stack()).sum(level=0)\n",
        "        self.transactiondf = (self.encoded > 0).astype(int)\n",
        "\n",
        "    def run_apriori(self, min_support, use_colnames=True):\n",
        "        return apriori(self.transactiondf, min_support=min_support, use_colnames=use_colnames)\n",
        "\n",
        "    def run_fpgrowth(self, min_support, use_colnames=True):\n",
        "        return fpgrowth(self.transactiondf, min_support=min_support, use_colnames=use_colnames)\n",
        "\n",
        "def main():\n",
        "    data = pd.read_csv('/content/drive/MyDrive/Groceries_dataset.csv', skiprows=lambda x: x % 10 != 0)\n",
        "\n",
        "    min_support = 0.02\n",
        "\n",
        "    frequent_itemsets = FrequentItemsets(data)\n",
        "\n",
        "    apriori_results = frequent_itemsets.run_apriori(min_support=min_support)\n",
        "    fpgrowth_results = frequent_itemsets.run_fpgrowth(min_support=min_support)\n",
        "\n",
        "    print(\"Apriori Results:\")\n",
        "    print(apriori_results)\n",
        "\n",
        "    print(\"\\nFP-Growth Results:\")\n",
        "    print(fpgrowth_results)\n",
        "\n",
        "if __name__ == \"__main__\":\n",
        "    main()"
      ],
      "metadata": {
        "colab": {
          "base_uri": "https://localhost:8080/"
        },
        "id": "HUoxWhUfSDrH",
        "outputId": "c120df74-918c-4cdf-bc3a-7c21162e909c"
      },
      "execution_count": null,
      "outputs": [
        {
          "output_type": "stream",
          "name": "stderr",
          "text": [
            "/usr/local/lib/python3.10/dist-packages/ipykernel/ipkernel.py:283: DeprecationWarning: `should_run_async` will not call `transform_cell` automatically in the future. Please pass the result to `transformed_cell` argument and any exception that happen during thetransform in `preprocessing_exc_tuple` in IPython 7.17 and above.\n",
            "  and should_run_async(code)\n",
            "/usr/local/lib/python3.10/dist-packages/mlxtend/frequent_patterns/fpcommon.py:110: DeprecationWarning: DataFrames with non-bool types result in worse computationalperformance and their support might be discontinued in the future.Please use a DataFrame with bool type\n",
            "  warnings.warn(\n",
            "/usr/local/lib/python3.10/dist-packages/mlxtend/frequent_patterns/fpcommon.py:110: DeprecationWarning: DataFrames with non-bool types result in worse computationalperformance and their support might be discontinued in the future.Please use a DataFrame with bool type\n",
            "  warnings.warn(\n"
          ]
        },
        {
          "output_type": "stream",
          "name": "stdout",
          "text": [
            "Apriori Results:\n",
            "     support              itemsets\n",
            "0   0.025026       (bottled water)\n",
            "1   0.052116    (other vegetables)\n",
            "2   0.049020          (rolls/buns)\n",
            "3   0.024510     (root vegetables)\n",
            "4   0.023478             (sausage)\n",
            "5   0.026574       (shopping bags)\n",
            "6   0.040506                (soda)\n",
            "7   0.029412      (tropical fruit)\n",
            "8   0.020124  (whipped/sour cream)\n",
            "9   0.059856          (whole milk)\n",
            "10  0.033540              (yogurt)\n",
            "\n",
            "FP-Growth Results:\n",
            "     support              itemsets\n",
            "0   0.029412      (tropical fruit)\n",
            "1   0.052116    (other vegetables)\n",
            "2   0.033540              (yogurt)\n",
            "3   0.023478             (sausage)\n",
            "4   0.040506                (soda)\n",
            "5   0.059856          (whole milk)\n",
            "6   0.049020          (rolls/buns)\n",
            "7   0.025026       (bottled water)\n",
            "8   0.024510     (root vegetables)\n",
            "9   0.026574       (shopping bags)\n",
            "10  0.020124  (whipped/sour cream)\n"
          ]
        }
      ]
    },
    {
      "cell_type": "code",
      "source": [
        "class FrequentItemsets:\n",
        "    def __init__(self, data):\n",
        "        self.data = data\n",
        "        self.transactions = []\n",
        "        for index, row in self.data.iterrows():\n",
        "            self.transactions.append(row.dropna().tolist())\n",
        "        self.encoded = pd.get_dummies(pd.DataFrame(self.transactions).stack()).sum(level=0)\n",
        "        self.transactiondf = (self.encoded > 0).astype(int)\n",
        "\n",
        "    def run_apriori(self, min_support, use_colnames=True):\n",
        "        return apriori(self.transactiondf, min_support=min_support, use_colnames=use_colnames)\n",
        "\n",
        "    def run_fpgrowth(self, min_support, use_colnames=True):\n",
        "        return fpgrowth(self.transactiondf, min_support=min_support, use_colnames=use_colnames)\n",
        "\n",
        "def run_algorithms_with_timing(frequent_itemsets, min_support):\n",
        "    apicompleted = threading.Event()\n",
        "    fpcompleted = threading.Event()\n",
        "    exetime = [0, 0]\n",
        "\n",
        "    def run_api():\n",
        "        stime = time.time()\n",
        "        frequent_itemsets.run_apriori(min_support=min_support)\n",
        "        exetime[0] = time.time() - stime\n",
        "        apicompleted.set()\n",
        "\n",
        "    def run_fp():\n",
        "        stime = time.time()\n",
        "        frequent_itemsets.run_fpgrowth(min_support=min_support)\n",
        "        exetime[1] = time.time() - stime\n",
        "        fpcompleted.set()\n",
        "\n",
        "    apthread = threading.Thread(target=run_api)\n",
        "    fpthread = threading.Thread(target=run_fp)\n",
        "\n",
        "    apthread.start()\n",
        "    fpthread.start()\n",
        "\n",
        "    apicompleted.wait()\n",
        "    fpcompleted.wait()\n",
        "\n",
        "    apthread.join()\n",
        "    fpthread.join()\n",
        "\n",
        "    return exetime\n",
        "\n",
        "def main():\n",
        "    data = pd.read_csv('/content/drive/MyDrive/Groceries_dataset.csv', skiprows=lambda x: x % 10 != 0)\n",
        "    min_support = 0.02\n",
        "\n",
        "    frequent_itemsets = FrequentItemsets(data)\n",
        "\n",
        "    exetime = run_algorithms_with_timing(frequent_itemsets, min_support)\n",
        "\n",
        "    print(\"Apriori Execution Time:\", exetime[0])\n",
        "    print(\"FP-Growth Execution Time:\", exetime[1])\n",
        "\n",
        "if __name__ == \"__main__\":\n",
        "    main()"
      ],
      "metadata": {
        "colab": {
          "base_uri": "https://localhost:8080/"
        },
        "id": "J56Q00ZMSUEY",
        "outputId": "005b37dc-1c0e-4825-9a20-28626bfb00fe"
      },
      "execution_count": null,
      "outputs": [
        {
          "output_type": "stream",
          "name": "stderr",
          "text": [
            "/usr/local/lib/python3.10/dist-packages/ipykernel/ipkernel.py:283: DeprecationWarning: `should_run_async` will not call `transform_cell` automatically in the future. Please pass the result to `transformed_cell` argument and any exception that happen during thetransform in `preprocessing_exc_tuple` in IPython 7.17 and above.\n",
            "  and should_run_async(code)\n",
            "/usr/local/lib/python3.10/dist-packages/mlxtend/frequent_patterns/fpcommon.py:110: DeprecationWarning: DataFrames with non-bool types result in worse computationalperformance and their support might be discontinued in the future.Please use a DataFrame with bool type\n",
            "  warnings.warn(\n",
            "/usr/local/lib/python3.10/dist-packages/mlxtend/frequent_patterns/fpcommon.py:110: DeprecationWarning: DataFrames with non-bool types result in worse computationalperformance and their support might be discontinued in the future.Please use a DataFrame with bool type\n",
            "  warnings.warn(\n"
          ]
        },
        {
          "output_type": "stream",
          "name": "stdout",
          "text": [
            "Apriori Execution Time: 0.21510863304138184\n",
            "FP-Growth Execution Time: 0.29355788230895996\n"
          ]
        }
      ]
    },
    {
      "cell_type": "code",
      "source": [
        "def run_algorithms_with_timing(frequent_itemsets, min_support):\n",
        "    apicompleted = threading.Event()\n",
        "    fpcompleted = threading.Event()\n",
        "    exetime = []\n",
        "\n",
        "    def run_api():\n",
        "        stime = time.time()\n",
        "        frequent_itemsets.run_apriori(min_support=min_support)\n",
        "        exetime.append(time.time() - stime)\n",
        "        apicompleted.set()\n",
        "\n",
        "    def run_fp():\n",
        "        stime = time.time()\n",
        "        frequent_itemsets.run_fpgrowth(min_support=min_support)\n",
        "        exetime.append(time.time() - stime)\n",
        "        fpcompleted.set()\n",
        "\n",
        "    apthread = threading.Thread(target=run_api)\n",
        "    fpthread = threading.Thread(target=run_fp)\n",
        "\n",
        "    apthread.start()\n",
        "    fpthread.start()\n",
        "\n",
        "    apicompleted.wait()\n",
        "    fpcompleted.wait()\n",
        "\n",
        "    apthread.join()\n",
        "    fpthread.join()\n",
        "\n",
        "    return exetime\n",
        "\n",
        "def main():\n",
        "    data = pd.read_csv('/content/drive/MyDrive/Groceries_dataset.csv', skiprows=lambda x: x % 10 != 0)\n",
        "    min_support = 0.02\n",
        "\n",
        "    frequent_itemsets = FrequentItemsets(data)\n",
        "\n",
        "    exetime = run_algorithms_with_timing(frequent_itemsets, min_support)\n",
        "\n",
        "    algorithms=['Apriori-Algorithm','FP-Growth']\n",
        "    plt.bar(algorithms,exetime)\n",
        "    plt.xlabel('Algorithms')\n",
        "    plt.ylabel('Execution Time')\n",
        "    plt.title('Apriori vs FP-Growth')\n",
        "    plt.show()\n",
        "\n",
        "    if exetime[0]<exetime[1]:\n",
        "      print(\"Apriori is Faster\")\n",
        "    elif exetime[1]<exetime[0]:\n",
        "      print(\"FP-Growth is Faster\")\n",
        "    else:\n",
        "      print(\"Both are equal\")\n",
        "\n",
        "if __name__ == \"__main__\":\n",
        "    main()"
      ],
      "metadata": {
        "colab": {
          "base_uri": "https://localhost:8080/",
          "height": 613
        },
        "id": "2ru9SZU8Sh-n",
        "outputId": "afcc5434-9f50-434d-f5d7-31ea1e03bc96"
      },
      "execution_count": null,
      "outputs": [
        {
          "output_type": "stream",
          "name": "stderr",
          "text": [
            "/usr/local/lib/python3.10/dist-packages/ipykernel/ipkernel.py:283: DeprecationWarning: `should_run_async` will not call `transform_cell` automatically in the future. Please pass the result to `transformed_cell` argument and any exception that happen during thetransform in `preprocessing_exc_tuple` in IPython 7.17 and above.\n",
            "  and should_run_async(code)\n",
            "/usr/local/lib/python3.10/dist-packages/mlxtend/frequent_patterns/fpcommon.py:110: DeprecationWarning: DataFrames with non-bool types result in worse computationalperformance and their support might be discontinued in the future.Please use a DataFrame with bool type\n",
            "  warnings.warn(\n",
            "/usr/local/lib/python3.10/dist-packages/mlxtend/frequent_patterns/fpcommon.py:110: DeprecationWarning: DataFrames with non-bool types result in worse computationalperformance and their support might be discontinued in the future.Please use a DataFrame with bool type\n",
            "  warnings.warn(\n"
          ]
        },
        {
          "output_type": "display_data",
          "data": {
            "text/plain": [
              "<Figure size 640x480 with 1 Axes>"
            ],
            "image/png": "[encoded data removed]"
          },
          "metadata": {}
        },
        {
          "output_type": "stream",
          "name": "stdout",
          "text": [
            "Apriori is Faster\n"
          ]
        }
      ]
    }
  ]
}